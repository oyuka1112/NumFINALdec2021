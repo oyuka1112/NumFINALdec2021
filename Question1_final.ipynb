{
 "cells": [
  {
   "cell_type": "code",
   "execution_count": 4,
   "id": "0dc113b9",
   "metadata": {},
   "outputs": [],
   "source": [
    "import pandas as pd \n",
    "\n",
    "import matplotlib.pyplot as plt\n",
    "\n",
    "import numpy as np\n",
    "\n",
    "from sklearn import metrics\n",
    "\n",
    "from sklearn.metrics import mean_squared_error\n",
    "\n",
    "import seaborn as sns\n",
    "\t\n",
    "from scipy.optimize import curve_fit"
   ]
  },
  {
   "cell_type": "code",
   "execution_count": 13,
   "id": "2e114900",
   "metadata": {
    "scrolled": true
   },
   "outputs": [
    {
     "name": "stdout",
     "output_type": "stream",
     "text": [
      "Linear regression:\n",
      "y = 0.359 *x + 4.888\n",
      "MAE: 0.753\n",
      "MSE: 0.840\n",
      "RMSE: 0.917\n",
      "Standard error of the estimate (R2): -0.261\n",
      "Plots:\n"
     ]
    },
    {
     "data": {
      "image/png": "[encoded data removed]",
      "text/plain": [
       "<Figure size 432x288 with 1 Axes>"
      ]
     },
     "metadata": {
      "needs_background": "light"
     },
     "output_type": "display_data"
    }
   ],
   "source": [
    "x = [0, 2, 4, 6, 9, 11, 12, 15, 17, 19]\n",
    "\n",
    "y = [5, 6, 7, 6, 9, 8, 8, 10, 12, 12]\n",
    "def Linear_reg(x, a_1, b_1):  # Define linear regression \n",
    "    return a_1* x + b_1\n",
    "\n",
    "\n",
    "popt, _ = curve_fit(Linear_reg, x, y)\n",
    "a_1, b_1 = popt\n",
    "\n",
    "\n",
    "x_line = np.arange(min(x), max(x)+1, 1)\n",
    "y_line = Linear_reg(x_line, a_1, b_1)\n",
    "\n",
    "linear_MAE = metrics.mean_absolute_error(y[:3], y_line[:3])\n",
    "linear_MSE = metrics.mean_squared_error(y[:3], y_line[:3])\n",
    "linear_RMSE = np.sqrt(metrics.mean_squared_error(y[:3], y_line[:3]))\n",
    "r_2 = metrics.r2_score(y[:3], y_line[:3])\n",
    "print(\"Linear regression:\")\n",
    "print(\"y = %.3f *x + %.3f\" %(a_1, b_1))\n",
    "print('MAE:', \"{:.3f}\".format(linear_MAE))\n",
    "print('MSE:', \"{:.3f}\".format(linear_MSE))\n",
    "print('RMSE:', \"{:.3f}\".format(linear_RMSE))\n",
    "print('Standard error of the estimate (R2):',  \"{:.3f}\".format(r_2))\n",
    "print(\"Plots:\")\n",
    "\n",
    "plt.figure(1)\n",
    "plt.plot(x_line, y_line, '--', color = 'red')\n",
    "plt.title(\"Regression\")\n",
    "plt.xlabel(\"x values\")\n",
    "plt.ylabel(\"y values\")\n",
    "plt.scatter(x, y)\n",
    "plt.show()"
   ]
  }
 ],
 "metadata": {
  "kernelspec": {
   "display_name": "Python 3",
   "language": "python",
   "name": "python3"
  },
  "language_info": {
   "codemirror_mode": {
    "name": "ipython",
    "version": 3
   },
   "file_extension": ".py",
   "mimetype": "text/x-python",
   "name": "python",
   "nbconvert_exporter": "python",
   "pygments_lexer": "ipython3",
   "version": "3.7.10"
  }
 },
 "nbformat": 4,
 "nbformat_minor": 5
}
