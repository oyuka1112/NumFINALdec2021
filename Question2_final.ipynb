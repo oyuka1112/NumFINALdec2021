{
 "cells": [
  {
   "cell_type": "code",
   "execution_count": 5,
   "id": "9b4a54fb",
   "metadata": {},
   "outputs": [
    {
     "name": "stdout",
     "output_type": "stream",
     "text": [
      "\n",
      "\n",
      "*** NEWTON RAPHSON METHOD IMPLEMENTATION ***\n",
      "Iteration-1, x1 = -0.063889 and f(x1) = 0.432029\n",
      "Iteration-2, x1 = -72.095999 and f(x1) = -5269.429033\n",
      "Iteration-3, x1 = -436.527542 and f(x1) = -190992.322684\n",
      "Iteration-4, x1 = -2623.157238 and f(x1) = -6883576.554065\n",
      "Iteration-5, x1 = -15742.942096 and f(x1) = -247855968.266924\n",
      "Iteration-6, x1 = -94461.652351 and f(x1) = -8923098226.065365\n",
      "Iteration-7, x1 = -566773.914070 and f(x1) = -321233236443.595154\n",
      "Iteration-8, x1 = -3400647.484414 and f(x1) = -11564406713895.380859\n",
      "Iteration-9, x1 = -20403888.906480 and f(x1) = -416318702911884.125000\n",
      "Iteration-10, x1 = -122423337.438882 and f(x1) = -14987473672097828.000000\n",
      "\n",
      "Not Convergent.\n"
     ]
    }
   ],
   "source": [
    "# Defining Function\n",
    "def f(x):\n",
    "    return -(x**2) +x +0.5\n",
    "\n",
    "# Defining derivative of function\n",
    "def g(x):\n",
    "    return (x**2)/(1+5*x)\n",
    "\n",
    "# Implementing Newton Raphson Method\n",
    "\n",
    "def newtonRaphson(x0,e,N):\n",
    "    print('\\n\\n*** NEWTON RAPHSON METHOD IMPLEMENTATION ***')\n",
    "    step = 1\n",
    "    flag = 1\n",
    "    condition = True\n",
    "    while condition:\n",
    "        if g(x0) == 0.0:\n",
    "            print('Divide by zero error!')\n",
    "            break\n",
    "        \n",
    "        x1 = x0 - f(x0)/g(x0)\n",
    "        print('Iteration-%d, x1 = %0.6f and f(x1) = %0.6f' % (step, x1, f(x1)))\n",
    "        x0 = x1\n",
    "        step = step + 1\n",
    "        \n",
    "        if step > N:\n",
    "            flag = 0\n",
    "            break\n",
    "        \n",
    "        condition = abs(f(x1)) > e\n",
    "    \n",
    "    if flag==1:\n",
    "        print('\\nRequired root is: %0.8f' % x1)\n",
    "    else:\n",
    "        print('\\nNot Convergent.')\n",
    "\n",
    "\n",
    "# Input Section\n",
    "x0 = 1.2\n",
    "e = 1.0e-6\n",
    "N = 10\n",
    "\n",
    "# Converting x0 and e to float\n",
    "x0 = float(x0)\n",
    "e = float(e)\n",
    "\n",
    "# Converting N to integer\n",
    "N = int(N)\n",
    "\n",
    "\n",
    "#Note: You can combine above three section like this\n",
    "# x0 = float(input('Enter Guess: '))\n",
    "# e = float(input('Tolerable Error: '))\n",
    "# N = int(input('Maximum Step: '))\n",
    "\n",
    "# Starting Newton Raphson Method\n",
    "newtonRaphson(x0,e,N)"
   ]
  }
 ],
 "metadata": {
  "kernelspec": {
   "display_name": "Python 3",
   "language": "python",
   "name": "python3"
  },
  "language_info": {
   "codemirror_mode": {
    "name": "ipython",
    "version": 3
   },
   "file_extension": ".py",
   "mimetype": "text/x-python",
   "name": "python",
   "nbconvert_exporter": "python",
   "pygments_lexer": "ipython3",
   "version": "3.7.10"
  }
 },
 "nbformat": 4,
 "nbformat_minor": 5
}
