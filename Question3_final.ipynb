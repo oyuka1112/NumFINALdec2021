{
 "cells": [
  {
   "cell_type": "code",
   "execution_count": 1,
   "id": "ae114519",
   "metadata": {},
   "outputs": [],
   "source": [
    "import numpy as np"
   ]
  },
  {
   "cell_type": "code",
   "execution_count": 3,
   "id": "128a8900",
   "metadata": {},
   "outputs": [
    {
     "data": {
      "text/plain": [
       "array([[-0.1152815 , -0.01340483, -0.03485255],\n",
       "       [-0.02949062, -0.16621984, -0.03217158],\n",
       "       [-0.0536193 , -0.02949062,  0.1233244 ]])"
      ]
     },
     "execution_count": 3,
     "metadata": {},
     "output_type": "execute_result"
    }
   ],
   "source": [
    "A = np.array([[-8, 1, -2],\n",
    "             [2, -6, -1],\n",
    "             [-3, -1,7]])\n",
    "x = np.array([[-20],\n",
    "              [-38],\n",
    "             [-34]])\n",
    "inverse = np.linalg.inv(A)\n",
    "inverse"
   ]
  },
  {
   "cell_type": "code",
   "execution_count": 7,
   "id": "38a1ade4",
   "metadata": {
    "scrolled": true
   },
   "outputs": [
    {
     "data": {
      "text/plain": [
       "array([[ 4.],\n",
       "       [ 8.],\n",
       "       [-2.]])"
      ]
     },
     "execution_count": 7,
     "metadata": {},
     "output_type": "execute_result"
    }
   ],
   "source": [
    "solution = inverse@x\n",
    "solution"
   ]
  },
  {
   "cell_type": "code",
   "execution_count": null,
   "id": "bc116db9",
   "metadata": {},
   "outputs": [],
   "source": []
  }
 ],
 "metadata": {
  "kernelspec": {
   "display_name": "Python 3",
   "language": "python",
   "name": "python3"
  },
  "language_info": {
   "codemirror_mode": {
    "name": "ipython",
    "version": 3
   },
   "file_extension": ".py",
   "mimetype": "text/x-python",
   "name": "python",
   "nbconvert_exporter": "python",
   "pygments_lexer": "ipython3",
   "version": "3.7.10"
  }
 },
 "nbformat": 4,
 "nbformat_minor": 5
}
