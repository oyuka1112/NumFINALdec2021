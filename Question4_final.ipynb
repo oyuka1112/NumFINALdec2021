{
 "cells": [
  {
   "cell_type": "code",
   "execution_count": 2,
   "id": "faae31ed",
   "metadata": {},
   "outputs": [],
   "source": [
    "import pandas as pd\n",
    "import numpy as np"
   ]
  },
  {
   "cell_type": "code",
   "execution_count": 4,
   "id": "842a2abe",
   "metadata": {},
   "outputs": [
    {
     "name": "stdout",
     "output_type": "stream",
     "text": [
      "root after 12 iterations.\n",
      "-0.20000012022999308\n"
     ]
    }
   ],
   "source": [
    "x = np.linspace(0, 1.0, 100)\n",
    "f = lambda x: x**5 - 16.05 * (x**4) + 88.75 * (x**3) - 192.037 * (x**2) +116.35 *x +31.6875\n",
    "Df = lambda x: 5* (x**4) - 16.05 *4* (x**3) + 88.75 * 3* (x**2) - 192.037 * x +116.35 \n",
    "\n",
    "def newton_fun(f, Df, x):\n",
    "    eps = 1.0e-5\n",
    "    x = x\n",
    "    for n in range(0,50):\n",
    "        fx = f(x)\n",
    "        if abs(fx) < eps: \n",
    "            print('root after ' + str(n) + ' iterations.')\n",
    "            return x\n",
    "        Dfx = Df(x)\n",
    "        if Dfx == 0:\n",
    "            print('no root.')\n",
    "            return None\n",
    "        x = x - fx/Dfx\n",
    "    print('No root.')\n",
    "    return None\n",
    "\n",
    "print(newton_fun(f, Df, 0.5825))"
   ]
  }
 ],
 "metadata": {
  "kernelspec": {
   "display_name": "Python 3",
   "language": "python",
   "name": "python3"
  },
  "language_info": {
   "codemirror_mode": {
    "name": "ipython",
    "version": 3
   },
   "file_extension": ".py",
   "mimetype": "text/x-python",
   "name": "python",
   "nbconvert_exporter": "python",
   "pygments_lexer": "ipython3",
   "version": "3.7.10"
  }
 },
 "nbformat": 4,
 "nbformat_minor": 5
}
