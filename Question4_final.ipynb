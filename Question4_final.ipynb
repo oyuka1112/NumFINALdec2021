{
 "cells": [
  {
   "cell_type": "code",
   "execution_count": 1,
   "id": "faae31ed",
   "metadata": {},
   "outputs": [],
   "source": [
    "import pandas as pd\n",
    "import numpy as np"
   ]
  },
  {
   "cell_type": "code",
   "execution_count": 6,
   "id": "842a2abe",
   "metadata": {},
   "outputs": [
    {
     "ename": "IndentationError",
     "evalue": "expected an indented block (<ipython-input-6-e4f7a2555d3a>, line 9)",
     "output_type": "error",
     "traceback": [
      "\u001b[0;36m  File \u001b[0;32m\"<ipython-input-6-e4f7a2555d3a>\"\u001b[0;36m, line \u001b[0;32m9\u001b[0m\n\u001b[0;31m    fx = f(x)\u001b[0m\n\u001b[0m     ^\u001b[0m\n\u001b[0;31mIndentationError\u001b[0m\u001b[0;31m:\u001b[0m expected an indented block\n"
     ]
    }
   ],
   "source": [
    "x = np.linspace(0, 1.0, 100)\n",
    "f = lambda x: x**5 - 16.05 * (x**4) + 88.75 * (x**3) - 192.037 * (x**2) +116.35 *x +31.6875\n",
    "Df = lambda x: 5* (x**4) - 16.05 *4* (x**3) + 88.75 * 3* (x**2) - 192.037 * x +116.35 \n",
    "\n",
    "def newton_fun(f, Df, x):\n",
    "    eps = 1.0e-6\n",
    "    x = x\n",
    "    for n in range(0,50):\n",
    "        fx = f(x)\n",
    "        if abs(fx) < eps: \n",
    "            print('root after ' + str(n) + ' iterations.')\n",
    "            return x\n",
    "    Dfx = Df(x)\n",
    "    if Dfx == 0:\n",
    "        print('no root.')\n",
    "        return None\n",
    "    x = x - fx/Dfx\n",
    "    print('No root.')\n",
    "    return None\n",
    "\n",
    "print(newton_fun(f, Df, 0.5825))"
   ]
  }
 ],
 "metadata": {
  "kernelspec": {
   "display_name": "Python 3",
   "language": "python",
   "name": "python3"
  },
  "language_info": {
   "codemirror_mode": {
    "name": "ipython",
    "version": 3
   },
   "file_extension": ".py",
   "mimetype": "text/x-python",
   "name": "python",
   "nbconvert_exporter": "python",
   "pygments_lexer": "ipython3",
   "version": "3.7.10"
  }
 },
 "nbformat": 4,
 "nbformat_minor": 5
}
