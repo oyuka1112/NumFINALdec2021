{
 "cells": [
  {
   "cell_type": "code",
   "execution_count": 1,
   "id": "b2a6e96e",
   "metadata": {},
   "outputs": [],
   "source": [
    "import matplotlib.pyplot as plt\n",
    "import pandas as pd\n",
    "import numpy as np\n",
    "import math as math"
   ]
  },
  {
   "cell_type": "code",
   "execution_count": 10,
   "id": "8b7f3d83",
   "metadata": {},
   "outputs": [
    {
     "name": "stderr",
     "output_type": "stream",
     "text": [
      "<ipython-input-10-4e04e96ac14b>:2: RuntimeWarning: divide by zero encountered in log\n",
      "  return np.log(x)\n"
     ]
    },
    {
     "data": {
      "image/png": "[encoded data removed]",
      "text/plain": [
       "<Figure size 432x288 with 1 Axes>"
      ]
     },
     "metadata": {
      "needs_background": "light"
     },
     "output_type": "display_data"
    }
   ],
   "source": [
    "def original_func(x):\n",
    "    return np.log(x)\n",
    "\n",
    "x = np.linspace(2* np.e, 0, 100)\n",
    "y = fun(x)\n",
    "\n",
    "plt.title(\"Original function sinx\")\n",
    "plt.plot(x, y, 'g')\n",
    "plt.grid()"
   ]
  },
  {
   "cell_type": "code",
   "execution_count": 22,
   "id": "db574363",
   "metadata": {},
   "outputs": [
    {
     "name": "stderr",
     "output_type": "stream",
     "text": [
      "<ipython-input-10-4e04e96ac14b>:2: RuntimeWarning: divide by zero encountered in log\n",
      "  return np.log(x)\n",
      "<ipython-input-22-f3a4d6a5422d>:2: RuntimeWarning: divide by zero encountered in true_divide\n",
      "  return 1/x\n"
     ]
    },
    {
     "data": {
      "image/png": "[encoded data removed]",
      "text/plain": [
       "<Figure size 432x288 with 1 Axes>"
      ]
     },
     "metadata": {
      "needs_background": "light"
     },
     "output_type": "display_data"
    }
   ],
   "source": [
    "\n",
    "def P1(x):\n",
    "    return 1/x\n",
    "def P2(x):\n",
    "    y= P1(x)+ pow(x,2)/math.factorial(2)\n",
    "    return y\n",
    "def P3(x):\n",
    "    y = P2(x)+ pow(x,3)/math.factorial(3)\n",
    "    return y\n",
    "def P4(x):\n",
    "    y = P3(x)+ pow(x,4)/math.factorial(4)\n",
    "    return y\n",
    "x = np.linspace(2* np.e, 0, 100)\n",
    "\n",
    "y = fun(x)\n",
    "# plt.title(\"Original function sinx\")\n",
    "p1 = P1(x)\n",
    "p2 = P2(x)\n",
    "p3 = P3(x)\n",
    "p4 = P4(x)\n",
    "plt.plot(x, y, 'g')\n",
    "plt.plot(x, p1, 'r')\n",
    "plt.plot(x, p2, 'black')\n",
    "plt.plot(x, p3, 'y')\n",
    "plt.plot(x, p4, 'orange')\n",
    "plt.grid()"
   ]
  },
  {
   "cell_type": "code",
   "execution_count": 28,
   "id": "5a655172",
   "metadata": {},
   "outputs": [
    {
     "name": "stdout",
     "output_type": "stream",
     "text": [
      "When n = 0, x = 1 the difference : -1.000 the relative error is-inf\n",
      "When n = 1, x = 1 the difference : -2.000 the relative error is-inf\n",
      "When n = 2, x = 1 the difference : -2.500 the relative error is-inf\n",
      "When n = 3, x = 1 the difference : -2.667 the relative error is-inf\n",
      "When n = 4, x = 1 the difference : -2.708 the relative error is-inf\n"
     ]
    },
    {
     "name": "stderr",
     "output_type": "stream",
     "text": [
      "<ipython-input-28-b0f7ea29863e>:25: RuntimeWarning: divide by zero encountered in double_scalars\n",
      "  e = (original_func(x) - P(n, x))/original_func(x) * 100\n"
     ]
    }
   ],
   "source": [
    "def original_func(x):\n",
    "    return np.log(x)\n",
    "\n",
    "#Define the P_n(x) = Sum of (x^k)/(k!) at a = 0 \n",
    "sum = 0\n",
    "def P(n,x):\n",
    "    sum = 0\n",
    "    if n ==0:\n",
    "        sum = 1\n",
    "        return sum \n",
    "    else:\n",
    "\n",
    "        for i in range(0,n+1):\n",
    "            sum += (x**i)/math.factorial(i)\n",
    "        return sum \n",
    "\n",
    "#Define the difference between actual value and approximate value\n",
    "def difference (n, x):\n",
    "    return original_func(x) - P(n,x)\n",
    "\n",
    "def format_float(n,x) :\n",
    "    result = \"{:.3f}\".format(difference(n, x))\n",
    "    return result\n",
    "def rel_error(n, x):\n",
    "    e = (original_func(x) - P(n, x))/original_func(x) * 100\n",
    "    return e\n",
    "\n",
    "print(\"When n = 0, x = 1 the difference : \" + str(format_float(0, 1))+ \" the relative error is\" + str(rel_error(0,1)))\n",
    "print(\"When n = 1, x = 1 the difference : \" + str(format_float(1, 1))+ \" the relative error is\" + str(rel_error(1,1)))\n",
    "print(\"When n = 2, x = 1 the difference : \" + str(format_float(2, 1))+ \" the relative error is\" + str(rel_error(2,1)))\n",
    "print(\"When n = 3, x = 1 the difference : \" + str(format_float(3, 1))+ \" the relative error is\" + str(rel_error(3,1)))\n",
    "print(\"When n = 4, x = 1 the difference : \" + str(format_float(4, 1))+ \" the relative error is\" + str(rel_error(4,1)))\n"
   ]
  },
  {
   "cell_type": "code",
   "execution_count": 30,
   "id": "1c88f7ef",
   "metadata": {},
   "outputs": [],
   "source": [
    "##The relative value is always negative infinity because the true value ln(1) is 0.\n",
    "# So, number divided by 0 is always infinity. "
   ]
  }
 ],
 "metadata": {
  "kernelspec": {
   "display_name": "PythonData",
   "language": "python",
   "name": "pythondata"
  },
  "language_info": {
   "codemirror_mode": {
    "name": "ipython",
    "version": 3
   },
   "file_extension": ".py",
   "mimetype": "text/x-python",
   "name": "python",
   "nbconvert_exporter": "python",
   "pygments_lexer": "ipython3",
   "version": "3.8.8"
  }
 },
 "nbformat": 4,
 "nbformat_minor": 5
}
